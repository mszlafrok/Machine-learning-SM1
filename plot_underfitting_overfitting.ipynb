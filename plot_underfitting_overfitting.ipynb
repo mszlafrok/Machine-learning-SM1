{
  "nbformat": 4,
  "nbformat_minor": 0,
  "metadata": {
    "kernelspec": {
      "display_name": "Python 3",
      "language": "python",
      "name": "python3"
    },
    "language_info": {
      "codemirror_mode": {
        "name": "ipython",
        "version": 3
      },
      "file_extension": ".py",
      "mimetype": "text/x-python",
      "name": "python",
      "nbconvert_exporter": "python",
      "pygments_lexer": "ipython3",
      "version": "3.9.7"
    },
    "colab": {
      "provenance": [],
      "include_colab_link": true
    }
  },
  "cells": [
    {
      "cell_type": "markdown",
      "metadata": {
        "id": "view-in-github",
        "colab_type": "text"
      },
      "source": [
        "<a href=\"https://colab.research.google.com/github/mszlafrok/Machine-learning-SM1/blob/main/plot_underfitting_overfitting.ipynb\" target=\"_parent\"><img src=\"https://colab.research.google.com/assets/colab-badge.svg\" alt=\"Open In Colab\"/></a>"
      ]
    },
    {
      "cell_type": "code",
      "metadata": {
        "id": "ZoGAv3Fd_-vk"
      },
      "source": [
        "%matplotlib inline"
      ],
      "execution_count": null,
      "outputs": []
    },
    {
      "cell_type": "markdown",
      "metadata": {
        "id": "hksR8dYy_-vm"
      },
      "source": [
        "\n",
        "# Underfitting vs. Overfitting\n",
        "\n",
        "This example demonstrates the problems of underfitting and overfitting and\n",
        "how we can use linear regression with polynomial features to approximate\n",
        "nonlinear functions. The plot shows the function that we want to approximate,\n",
        "which is a part of the cosine function. In addition, the samples from the\n",
        "real function and the approximations of different models are displayed. The\n",
        "models have polynomial features of different degrees. We can see that a\n",
        "linear function (polynomial with degree 1) is not sufficient to fit the\n",
        "training samples. This is called **underfitting**. A polynomial of degree 4\n",
        "approximates the true function almost perfectly. However, for higher degrees\n",
        "the model will **overfit** the training data, i.e. it learns the noise of the\n",
        "training data.\n",
        "We evaluate quantitatively **overfitting** / **underfitting** by using\n",
        "**cross-validation**. We calculate the mean squared error (MSE) on the validation\n",
        "set, the higher, the less likely the model generalizes correctly from the\n",
        "training data.\n"
      ]
    },
    {
      "cell_type": "markdown",
      "metadata": {
        "id": "2xvefdBhnaq8"
      },
      "source": [
        "In this example the training set are the blue noisy samples used to train a model (the blue polynomial function)"
      ]
    },
    {
      "cell_type": "markdown",
      "metadata": {
        "id": "zXTqupgnkes6"
      },
      "source": [
        "### Approximating a polynomial\n",
        "\n",
        "$f(x) = c_0 + c_1x + c_2x^2 + \\dotsb + c_{12}x^{12}$ for arbitrary constants $\\{c_n\\}$."
      ]
    },
    {
      "cell_type": "markdown",
      "source": [
        "### Specificaly, we'll fit a cosine function using poilynomial linear regression\n",
        "\n",
        "$cos(x) = 1 - \\frac {x^2} {2!} + \\frac {x^4} {4!} + ...$"
      ],
      "metadata": {
        "id": "Z8HXNpgRoTs-"
      }
    },
    {
      "cell_type": "markdown",
      "metadata": {
        "id": "T1hhgdCIn4wJ"
      },
      "source": [
        "The testing set is approximated by the true function in orange (but could be a new set of noisy points)"
      ]
    },
    {
      "cell_type": "code",
      "metadata": {
        "id": "Ya2OOwI__-vp",
        "colab": {
          "base_uri": "https://localhost:8080/",
          "height": 626
        },
        "outputId": "06671aa3-77cf-4275-ac29-783ce48269c4"
      },
      "source": [
        "print(__doc__)\n",
        "\n",
        "import numpy as np\n",
        "import matplotlib.pyplot as plt\n",
        "from sklearn.pipeline import Pipeline\n",
        "from sklearn.preprocessing import PolynomialFeatures\n",
        "from sklearn.linear_model import LinearRegression\n",
        "from sklearn.model_selection import cross_val_score\n",
        "\n",
        "\n",
        "def true_fun(X):\n",
        "    return np.cos(1.5 * np.pi * X)\n",
        "\n",
        "\n",
        "np.random.seed(0)\n",
        "\n",
        "n_samples = 150\n",
        "degrees = [1, 4, 15]\n",
        "\n",
        "X = np.sort(np.random.rand(n_samples))\n",
        "y = true_fun(X) + np.random.randn(n_samples) * 0.1\n",
        "\n",
        "plt.figure(figsize=(14, 5))\n",
        "for i in range(len(degrees)):\n",
        "    ax = plt.subplot(1, len(degrees), i + 1)\n",
        "    plt.setp(ax, xticks=(), yticks=())\n",
        "\n",
        "    polynomial_features = PolynomialFeatures(degree=degrees[i],\n",
        "                                             include_bias=False)\n",
        "    linear_regression = LinearRegression()\n",
        "    pipeline = Pipeline([(\"polynomial_features\", polynomial_features),\n",
        "                         (\"linear_regression\", linear_regression)])\n",
        "    pipeline.fit(X[:, np.newaxis], y)\n",
        "    #print regression coefficients for different degrees\n",
        "    print('degree = '+ str(degrees[i]) + ' coefficients')\n",
        "    print(linear_regression.coef_)\n",
        "    print('\\n')\n",
        "    # Evaluate the models using crossvalidation\n",
        "    scores = cross_val_score(pipeline, X[:, np.newaxis], y,\n",
        "                             scoring=\"neg_mean_squared_error\", cv=10)\n",
        "\n",
        "    X_test = np.linspace(0, 1, 100)\n",
        "    plt.plot(X_test, pipeline.predict(X_test[:, np.newaxis]), label=\"Model\")\n",
        "    plt.plot(X_test, true_fun(X_test), label=\"True function\")\n",
        "    plt.scatter(X, y, edgecolor='b', s=20, label=\"Samples\")\n",
        "    plt.xlabel(\"x\")\n",
        "    plt.ylabel(\"y\")\n",
        "    plt.xlim((0, 1))\n",
        "    plt.ylim((-2, 2))\n",
        "    plt.legend(loc=\"best\")\n",
        "    plt.title(\"Degree {}\\nMSE = {:.2e}(+/- {:.2e})\".format(\n",
        "        degrees[i], -scores.mean(), scores.std()))\n",
        "plt.show()"
      ],
      "execution_count": 9,
      "outputs": [
        {
          "output_type": "stream",
          "name": "stdout",
          "text": [
            "Automatically created module for IPython interactive environment\n",
            "degree = 1 coefficients\n",
            "[-1.88067006]\n",
            "\n",
            "\n",
            "degree = 4 coefficients\n",
            "[  1.41173185 -22.38794441  31.28209592 -11.28775939]\n",
            "\n",
            "\n",
            "degree = 15 coefficients\n",
            "[-2.86220744e+01  1.69567200e+03 -4.44162144e+04  6.32179284e+05\n",
            " -5.54473313e+06  3.21703698e+07 -1.29046883e+08  3.67713680e+08\n",
            " -7.54961750e+08  1.12004927e+09 -1.18958068e+09  8.81773836e+08\n",
            " -4.33167905e+08  1.26711883e+08 -1.67065120e+07]\n",
            "\n",
            "\n"
          ]
        },
        {
          "output_type": "display_data",
          "data": {
            "text/plain": [
              "<Figure size 1008x360 with 3 Axes>"
            ],
            "image/png": "[encoded data removed]"
          },
          "metadata": {}
        }
      ]
    },
    {
      "cell_type": "markdown",
      "source": [
        "#Note that overfitting leads to extremely high regression coefficients\n",
        "\n",
        "#We'll see in the next class how ***regularization*** tackle this issue\n",
        "\n",
        "#(BTW: Do you think that more training examples could decrease overfitting? Why?)"
      ],
      "metadata": {
        "id": "jrDexR9reUDi"
      }
    },
    {
      "cell_type": "markdown",
      "source": [
        "**answer to the question: yes, more training examples [aka - samples] decreases the overfitting. it make sense because it gives more eccurate data, and besides - i checked this issue and it might improve the MSE in number of orders**"
      ],
      "metadata": {
        "id": "Ztbu9Dx-RZ2h"
      }
    },
    {
      "cell_type": "markdown",
      "source": [
        "**another point is - i raised the degree of the polynom and it raises the MSE **"
      ],
      "metadata": {
        "id": "fcw54l2vSXIQ"
      }
    },
    {
      "cell_type": "markdown",
      "source": [
        "##Inspect the polynomial features"
      ],
      "metadata": {
        "id": "3HJHJeNOjC0S"
      }
    },
    {
      "cell_type": "code",
      "source": [
        "polynomial_features = PolynomialFeatures(degree=3)\n",
        "X_poly = polynomial_features.fit_transform(X.reshape(-1, 1))"
      ],
      "metadata": {
        "id": "FfXFAIzs5R7u"
      },
      "execution_count": 6,
      "outputs": []
    },
    {
      "cell_type": "code",
      "source": [
        "#X_poly = [x^0,x^1,x^2,...]\n",
        "X,X_poly"
      ],
      "metadata": {
        "colab": {
          "base_uri": "https://localhost:8080/"
        },
        "id": "pFuGXfFH6Y6q",
        "outputId": "ecb62f84-59d5-4ad3-96b8-5de002875df7"
      },
      "execution_count": 7,
      "outputs": [
        {
          "output_type": "execute_result",
          "data": {
            "text/plain": [
              "(array([0.00469548, 0.0187898 , 0.0191932 , 0.02010755, 0.0202184 ,\n",
              "        0.03918779, 0.06022547, 0.0641475 , 0.07103606, 0.0871293 ,\n",
              "        0.09394051, 0.09609841, 0.09710128, 0.10022689, 0.10204481,\n",
              "        0.11037514, 0.11827443, 0.11872772, 0.12019656, 0.1289263 ,\n",
              "        0.13179786, 0.13547406, 0.13818295, 0.14335329, 0.15896958,\n",
              "        0.16130952, 0.18319136, 0.19658236, 0.20887676, 0.21038256,\n",
              "        0.22308163, 0.24442559, 0.24875314, 0.2532916 , 0.26455561,\n",
              "        0.26538949, 0.27000797, 0.28280696, 0.28940609, 0.29007761,\n",
              "        0.2961402 , 0.29743695, 0.29828233, 0.30157482, 0.31542835,\n",
              "        0.31798318, 0.31856895, 0.3595079 , 0.36371077, 0.36756187,\n",
              "        0.36872517, 0.38344152, 0.39650574, 0.41426299, 0.41466194,\n",
              "        0.4236548 , 0.42385505, 0.4287687 , 0.43141844, 0.43586493,\n",
              "        0.43703195, 0.43758721, 0.43860151, 0.44712538, 0.45615033,\n",
              "        0.46147936, 0.46631077, 0.4686512 , 0.50132438, 0.52184832,\n",
              "        0.52324805, 0.52889492, 0.54488318, 0.5488135 , 0.56660145,\n",
              "        0.56804456, 0.56843395, 0.56996491, 0.57019677, 0.57225191,\n",
              "        0.57432525, 0.5759465 , 0.57615733, 0.58127287, 0.58651293,\n",
              "        0.59087276, 0.59204193, 0.60276338, 0.60484552, 0.60639321,\n",
              "        0.61209572, 0.616934  , 0.6176355 , 0.61801543, 0.63992102,\n",
              "        0.6439902 , 0.64589411, 0.65210327, 0.65310833, 0.65320082,\n",
              "        0.65632959, 0.66017354, 0.66676672, 0.66741038, 0.67063787,\n",
              "        0.67781654, 0.6818203 , 0.69247212, 0.69253159, 0.6976312 ,\n",
              "        0.69947928, 0.70388858, 0.7142413 , 0.71518937, 0.7163272 ,\n",
              "        0.72525428, 0.73519402, 0.73926358, 0.77423369, 0.77815675,\n",
              "        0.78052918, 0.79172504, 0.79915856, 0.80619399, 0.81379782,\n",
              "        0.82099323, 0.82894003, 0.83261985, 0.83794491, 0.84640867,\n",
              "        0.87001215, 0.8811032 , 0.88173536, 0.891773  , 0.89192336,\n",
              "        0.8965466 , 0.91948261, 0.92559664, 0.9292962 , 0.94374808,\n",
              "        0.94466892, 0.95274901, 0.95608363, 0.96218855, 0.96366276,\n",
              "        0.97645947, 0.97676109, 0.97861834, 0.98837384, 0.99884701]),\n",
              " array([[1.00000000e+00, 4.69547619e-03, 2.20474967e-05, 1.03523496e-07],\n",
              "        [1.00000000e+00, 1.87898004e-02, 3.53056600e-04, 6.63386306e-06],\n",
              "        [1.00000000e+00, 1.91931983e-02, 3.68378861e-04, 7.07036854e-06],\n",
              "        [1.00000000e+00, 2.01075462e-02, 4.04313414e-04, 8.12975064e-06],\n",
              "        [1.00000000e+00, 2.02183974e-02, 4.08783595e-04, 8.26494919e-06],\n",
              "        [1.00000000e+00, 3.91877923e-02, 1.53568306e-03, 6.01800288e-05],\n",
              "        [1.00000000e+00, 6.02254716e-02, 3.62710743e-03, 2.18444256e-04],\n",
              "        [1.00000000e+00, 6.41474963e-02, 4.11490129e-03, 2.63960615e-04],\n",
              "        [1.00000000e+00, 7.10360582e-02, 5.04612156e-03, 3.58456585e-04],\n",
              "        [1.00000000e+00, 8.71292997e-02, 7.59151487e-03, 6.61443374e-04],\n",
              "        [1.00000000e+00, 9.39405108e-02, 8.82481956e-03, 8.29008057e-04],\n",
              "        [1.00000000e+00, 9.60984079e-02, 9.23490400e-03, 8.87459571e-04],\n",
              "        [1.00000000e+00, 9.71012758e-02, 9.42865776e-03, 9.15534698e-04],\n",
              "        [1.00000000e+00, 1.00226887e-01, 1.00454289e-02, 1.00682207e-03],\n",
              "        [1.00000000e+00, 1.02044811e-01, 1.04131434e-02, 1.06260725e-03],\n",
              "        [1.00000000e+00, 1.10375141e-01, 1.21826718e-02, 1.34466412e-03],\n",
              "        [1.00000000e+00, 1.18274426e-01, 1.39888398e-02, 1.65452200e-03],\n",
              "        [1.00000000e+00, 1.18727719e-01, 1.40962712e-02, 1.67361813e-03],\n",
              "        [1.00000000e+00, 1.20196561e-01, 1.44472133e-02, 1.73650536e-03],\n",
              "        [1.00000000e+00, 1.28926298e-01, 1.66219902e-02, 2.14301166e-03],\n",
              "        [1.00000000e+00, 1.31797862e-01, 1.73706765e-02, 2.28941804e-03],\n",
              "        [1.00000000e+00, 1.35474064e-01, 1.83532221e-02, 2.48638559e-03],\n",
              "        [1.00000000e+00, 1.38182951e-01, 1.90945280e-02, 2.63853824e-03],\n",
              "        [1.00000000e+00, 1.43353287e-01, 2.05501650e-02, 2.94593371e-03],\n",
              "        [1.00000000e+00, 1.58969584e-01, 2.52713285e-02, 4.01737257e-03],\n",
              "        [1.00000000e+00, 1.61309518e-01, 2.60207606e-02, 4.19739634e-03],\n",
              "        [1.00000000e+00, 1.83191362e-01, 3.35590751e-02, 6.14773268e-03],\n",
              "        [1.00000000e+00, 1.96582362e-01, 3.86446249e-02, 7.59685163e-03],\n",
              "        [1.00000000e+00, 2.08876756e-01, 4.36294992e-02, 9.11318827e-03],\n",
              "        [1.00000000e+00, 2.10382561e-01, 4.42608220e-02, 9.31170509e-03],\n",
              "        [1.00000000e+00, 2.23081633e-01, 4.97654148e-02, 1.11017500e-02],\n",
              "        [1.00000000e+00, 2.44425592e-01, 5.97438700e-02, 1.46029308e-02],\n",
              "        [1.00000000e+00, 2.48753144e-01, 6.18781264e-02, 1.53923785e-02],\n",
              "        [1.00000000e+00, 2.53291603e-01, 6.41566359e-02, 1.62503371e-02],\n",
              "        [1.00000000e+00, 2.64555612e-01, 6.99896719e-02, 1.85161605e-02],\n",
              "        [1.00000000e+00, 2.65389491e-01, 7.04315819e-02, 1.86918017e-02],\n",
              "        [1.00000000e+00, 2.70007973e-01, 7.29043056e-02, 1.96847438e-02],\n",
              "        [1.00000000e+00, 2.82806963e-01, 7.99797781e-02, 2.26188381e-02],\n",
              "        [1.00000000e+00, 2.89406093e-01, 8.37558866e-02, 2.42394639e-02],\n",
              "        [1.00000000e+00, 2.90077607e-01, 8.41450182e-02, 2.44085855e-02],\n",
              "        [1.00000000e+00, 2.96140198e-01, 8.76990166e-02, 2.59712041e-02],\n",
              "        [1.00000000e+00, 2.97436951e-01, 8.84687397e-02, 2.63138722e-02],\n",
              "        [1.00000000e+00, 2.98282326e-01, 8.89723460e-02, 2.65388783e-02],\n",
              "        [1.00000000e+00, 3.01574817e-01, 9.09473701e-02, 2.74274365e-02],\n",
              "        [1.00000000e+00, 3.15428351e-01, 9.94950446e-02, 3.13835578e-02],\n",
              "        [1.00000000e+00, 3.17983179e-01, 1.01113302e-01, 3.21523294e-02],\n",
              "        [1.00000000e+00, 3.18568952e-01, 1.01486177e-01, 3.23303452e-02],\n",
              "        [1.00000000e+00, 3.59507901e-01, 1.29245931e-01, 4.64649332e-02],\n",
              "        [1.00000000e+00, 3.63710771e-01, 1.32285525e-01, 4.81136702e-02],\n",
              "        [1.00000000e+00, 3.67561870e-01, 1.35101728e-01, 4.96582439e-02],\n",
              "        [1.00000000e+00, 3.68725171e-01, 1.35958251e-01, 5.01312295e-02],\n",
              "        [1.00000000e+00, 3.83441519e-01, 1.47027398e-01, 5.63764089e-02],\n",
              "        [1.00000000e+00, 3.96505741e-01, 1.57216803e-01, 6.23373648e-02],\n",
              "        [1.00000000e+00, 4.14262995e-01, 1.71613829e-01, 7.10932585e-02],\n",
              "        [1.00000000e+00, 4.14661940e-01, 1.71944524e-01, 7.12988501e-02],\n",
              "        [1.00000000e+00, 4.23654799e-01, 1.79483389e-01, 7.60389992e-02],\n",
              "        [1.00000000e+00, 4.23855049e-01, 1.79653102e-01, 7.61468744e-02],\n",
              "        [1.00000000e+00, 4.28768701e-01, 1.83842599e-01, 7.88259523e-02],\n",
              "        [1.00000000e+00, 4.31418435e-01, 1.86121866e-01, 8.02964044e-02],\n",
              "        [1.00000000e+00, 4.35864925e-01, 1.89978233e-01, 8.28048484e-02],\n",
              "        [1.00000000e+00, 4.37031954e-01, 1.90996929e-01, 8.34717609e-02],\n",
              "        [1.00000000e+00, 4.37587211e-01, 1.91482567e-01, 8.37903227e-02],\n",
              "        [1.00000000e+00, 4.38601513e-01, 1.92371288e-01, 8.43743379e-02],\n",
              "        [1.00000000e+00, 4.47125379e-01, 1.99921104e-01, 8.93897994e-02],\n",
              "        [1.00000000e+00, 4.56150332e-01, 2.08073126e-01, 9.49126254e-02],\n",
              "        [1.00000000e+00, 4.61479362e-01, 2.12963202e-01, 9.82781225e-02],\n",
              "        [1.00000000e+00, 4.66310773e-01, 2.17445737e-01, 1.01397290e-01],\n",
              "        [1.00000000e+00, 4.68651202e-01, 2.19633949e-01, 1.02931714e-01],\n",
              "        [1.00000000e+00, 5.01324382e-01, 2.51326136e-01, 1.25995920e-01],\n",
              "        [1.00000000e+00, 5.21848322e-01, 2.72325671e-01, 1.42112694e-01],\n",
              "        [1.00000000e+00, 5.23248053e-01, 2.73788525e-01, 1.43259313e-01],\n",
              "        [1.00000000e+00, 5.28894920e-01, 2.79729836e-01, 1.47947689e-01],\n",
              "        [1.00000000e+00, 5.44883183e-01, 2.96897683e-01, 1.61774555e-01],\n",
              "        [1.00000000e+00, 5.48813504e-01, 3.01196262e-01, 1.65300576e-01],\n",
              "        [1.00000000e+00, 5.66601454e-01, 3.21037208e-01, 1.81900149e-01],\n",
              "        [1.00000000e+00, 5.68044561e-01, 3.22674623e-01, 1.83293565e-01],\n",
              "        [1.00000000e+00, 5.68433949e-01, 3.23117154e-01, 1.83670760e-01],\n",
              "        [1.00000000e+00, 5.69964911e-01, 3.24859999e-01, 1.85158801e-01],\n",
              "        [1.00000000e+00, 5.70196770e-01, 3.25124357e-01, 1.85384858e-01],\n",
              "        [1.00000000e+00, 5.72251906e-01, 3.27472244e-01, 1.87396616e-01],\n",
              "        [1.00000000e+00, 5.74325249e-01, 3.29849491e-01, 1.89440891e-01],\n",
              "        [1.00000000e+00, 5.75946496e-01, 3.31714366e-01, 1.91049726e-01],\n",
              "        [1.00000000e+00, 5.76157334e-01, 3.31957274e-01, 1.91259618e-01],\n",
              "        [1.00000000e+00, 5.81272873e-01, 3.37878152e-01, 1.96399404e-01],\n",
              "        [1.00000000e+00, 5.86512935e-01, 3.43997423e-01, 2.01758938e-01],\n",
              "        [1.00000000e+00, 5.90872761e-01, 3.49130620e-01, 2.06291773e-01],\n",
              "        [1.00000000e+00, 5.92041931e-01, 3.50513648e-01, 2.07518777e-01],\n",
              "        [1.00000000e+00, 6.02763376e-01, 3.63323688e-01, 2.18998213e-01],\n",
              "        [1.00000000e+00, 6.04845520e-01, 3.65838103e-01, 2.21275537e-01],\n",
              "        [1.00000000e+00, 6.06393214e-01, 3.67712730e-01, 2.22978504e-01],\n",
              "        [1.00000000e+00, 6.12095723e-01, 3.74661174e-01, 2.29328502e-01],\n",
              "        [1.00000000e+00, 6.16933997e-01, 3.80607556e-01, 2.34809741e-01],\n",
              "        [1.00000000e+00, 6.17635497e-01, 3.81473607e-01, 2.35611641e-01],\n",
              "        [1.00000000e+00, 6.18015429e-01, 3.81943070e-01, 2.36046711e-01],\n",
              "        [1.00000000e+00, 6.39921021e-01, 4.09498914e-01, 2.62046963e-01],\n",
              "        [1.00000000e+00, 6.43990199e-01, 4.14723377e-01, 2.67077790e-01],\n",
              "        [1.00000000e+00, 6.45894113e-01, 4.17179205e-01, 2.69453593e-01],\n",
              "        [1.00000000e+00, 6.52103270e-01, 4.25238675e-01, 2.77299530e-01],\n",
              "        [1.00000000e+00, 6.53108325e-01, 4.26550485e-01, 2.78583673e-01],\n",
              "        [1.00000000e+00, 6.53200820e-01, 4.26671311e-01, 2.78702050e-01],\n",
              "        [1.00000000e+00, 6.56329589e-01, 4.30768530e-01, 2.82726132e-01],\n",
              "        [1.00000000e+00, 6.60173537e-01, 4.35829100e-01, 2.87722838e-01],\n",
              "        [1.00000000e+00, 6.66766715e-01, 4.44577853e-01, 2.96429715e-01],\n",
              "        [1.00000000e+00, 6.67410380e-01, 4.45436615e-01, 2.97289021e-01],\n",
              "        [1.00000000e+00, 6.70637870e-01, 4.49755152e-01, 3.01622837e-01],\n",
              "        [1.00000000e+00, 6.77816537e-01, 4.59435258e-01, 3.11412815e-01],\n",
              "        [1.00000000e+00, 6.81820299e-01, 4.64878920e-01, 3.16963884e-01],\n",
              "        [1.00000000e+00, 6.92472119e-01, 4.79517636e-01, 3.32052594e-01],\n",
              "        [1.00000000e+00, 6.92531590e-01, 4.79600003e-01, 3.32138153e-01],\n",
              "        [1.00000000e+00, 6.97631196e-01, 4.86689286e-01, 3.39529628e-01],\n",
              "        [1.00000000e+00, 6.99479275e-01, 4.89271257e-01, 3.42235104e-01],\n",
              "        [1.00000000e+00, 7.03888584e-01, 4.95459138e-01, 3.48748031e-01],\n",
              "        [1.00000000e+00, 7.14241300e-01, 5.10140634e-01, 3.64363509e-01],\n",
              "        [1.00000000e+00, 7.15189366e-01, 5.11495830e-01, 3.65816378e-01],\n",
              "        [1.00000000e+00, 7.16327204e-01, 5.13124663e-01, 3.67565155e-01],\n",
              "        [1.00000000e+00, 7.25254280e-01, 5.25993770e-01, 3.81479233e-01],\n",
              "        [1.00000000e+00, 7.35194022e-01, 5.40510250e-01, 3.97379905e-01],\n",
              "        [1.00000000e+00, 7.39263579e-01, 5.46510640e-01, 4.04015412e-01],\n",
              "        [1.00000000e+00, 7.74233689e-01, 5.99437806e-01, 4.64104944e-01],\n",
              "        [1.00000000e+00, 7.78156751e-01, 6.05527929e-01, 4.71195646e-01],\n",
              "        [1.00000000e+00, 7.80529176e-01, 6.09225795e-01, 4.75518508e-01],\n",
              "        [1.00000000e+00, 7.91725038e-01, 6.26828536e-01, 4.96275846e-01],\n",
              "        [1.00000000e+00, 7.99158564e-01, 6.38654411e-01, 5.10386142e-01],\n",
              "        [1.00000000e+00, 8.06193989e-01, 6.49948748e-01, 5.23984774e-01],\n",
              "        [1.00000000e+00, 8.13797820e-01, 6.62266891e-01, 5.38951352e-01],\n",
              "        [1.00000000e+00, 8.20993230e-01, 6.74029883e-01, 5.53373971e-01],\n",
              "        [1.00000000e+00, 8.28940029e-01, 6.87141572e-01, 5.69599155e-01],\n",
              "        [1.00000000e+00, 8.32619846e-01, 6.93255807e-01, 5.77218543e-01],\n",
              "        [1.00000000e+00, 8.37944907e-01, 7.02151668e-01, 5.88364414e-01],\n",
              "        [1.00000000e+00, 8.46408672e-01, 7.16407641e-01, 6.06373640e-01],\n",
              "        [1.00000000e+00, 8.70012148e-01, 7.56921138e-01, 6.58530585e-01],\n",
              "        [1.00000000e+00, 8.81103197e-01, 7.76342844e-01, 6.84038162e-01],\n",
              "        [1.00000000e+00, 8.81735362e-01, 7.77457248e-01, 6.85511548e-01],\n",
              "        [1.00000000e+00, 8.91773001e-01, 7.95259085e-01, 7.09190581e-01],\n",
              "        [1.00000000e+00, 8.91923355e-01, 7.95527271e-01, 7.09549353e-01],\n",
              "        [1.00000000e+00, 8.96546596e-01, 8.03795799e-01, 7.20640387e-01],\n",
              "        [1.00000000e+00, 9.19482614e-01, 8.45448277e-01, 7.77374992e-01],\n",
              "        [1.00000000e+00, 9.25596638e-01, 8.56729137e-01, 7.92985609e-01],\n",
              "        [1.00000000e+00, 9.29296198e-01, 8.63591423e-01, 8.02532225e-01],\n",
              "        [1.00000000e+00, 9.43748079e-01, 8.90660436e-01, 8.40559075e-01],\n",
              "        [1.00000000e+00, 9.44668917e-01, 8.92399363e-01, 8.43021940e-01],\n",
              "        [1.00000000e+00, 9.52749012e-01, 9.07730679e-01, 8.64839507e-01],\n",
              "        [1.00000000e+00, 9.56083635e-01, 9.14095917e-01, 8.73952146e-01],\n",
              "        [1.00000000e+00, 9.62188545e-01, 9.25806796e-01, 8.90800694e-01],\n",
              "        [1.00000000e+00, 9.63662761e-01, 9.28645916e-01, 8.94901487e-01],\n",
              "        [1.00000000e+00, 9.76459465e-01, 9.53473087e-01, 9.31027820e-01],\n",
              "        [1.00000000e+00, 9.76761088e-01, 9.54062223e-01, 9.31890856e-01],\n",
              "        [1.00000000e+00, 9.78618342e-01, 9.57693860e-01, 9.37216777e-01],\n",
              "        [1.00000000e+00, 9.88373838e-01, 9.76882844e-01, 9.65525446e-01],\n",
              "        [1.00000000e+00, 9.98847007e-01, 9.97695343e-01, 9.96545006e-01]]))"
            ]
          },
          "metadata": {},
          "execution_count": 7
        }
      ]
    }
  ]
}